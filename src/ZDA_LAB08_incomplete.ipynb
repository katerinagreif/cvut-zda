{
  "cells": [
    {
      "cell_type": "markdown",
      "metadata": {
        "id": "oxfHDCJlHgkl"
      },
      "source": [
        "# __Lab 08: Ordinary Least Squares - OLS__\n"
      ]
    },
    {
      "cell_type": "markdown",
      "metadata": {
        "id": "hESSI5mXHgkn"
      },
      "source": [
        "1.) Let's start by importing all relevant libraries:"
      ]
    },
    {
      "cell_type": "code",
      "execution_count": null,
      "metadata": {
        "collapsed": true,
        "id": "Y2mnfnfoHgko"
      },
      "outputs": [],
      "source": [
        "import numpy as np\n",
        "import pandas as pd\n",
        "import matplotlib.pyplot as plt\n",
        "from sklearn.model_selection import train_test_split\n",
        "from sklearn.datasets import fetch_california_housing\n",
        "from numpy.linalg import lstsq"
      ]
    },
    {
      "cell_type": "markdown",
      "metadata": {
        "id": "isRpKUfnHgkp"
      },
      "source": [
        "2.) Now let's import the California housing dataset from the sklearn library: "
      ]
    },
    {
      "cell_type": "code",
      "execution_count": null,
      "metadata": {
        "collapsed": true,
        "id": "DmCPQ7YFHgkq"
      },
      "outputs": [],
      "source": [
        "sklearn_housing = fetch_california_housing()"
      ]
    },
    {
      "cell_type": "markdown",
      "source": [
        "3.) Explore the dataset description: "
      ],
      "metadata": {
        "id": "MLiE5z5TJNCj"
      }
    },
    {
      "cell_type": "code",
      "execution_count": null,
      "metadata": {
        "id": "KHEntU6YHgkq"
      },
      "outputs": [],
      "source": [
        "print(sklearn_housing.DESCR)"
      ]
    },
    {
      "cell_type": "markdown",
      "source": [
        "3.) Figure out the dataset shape and its individual keys:"
      ],
      "metadata": {
        "id": "QVtNHs4ZOrVi"
      }
    },
    {
      "cell_type": "code",
      "execution_count": null,
      "metadata": {
        "id": "Lb8WcAJ1Hgkt"
      },
      "outputs": [],
      "source": [
        "print(sklearn_housing.data.shape)\n",
        "print(sklearn_housing.feature_names)"
      ]
    },
    {
      "cell_type": "markdown",
      "metadata": {
        "id": "jmcFBnFhHgku"
      },
      "source": [
        "4.) Convert dataset to Pandas dataframe:"
      ]
    },
    {
      "cell_type": "code",
      "execution_count": null,
      "metadata": {
        "id": "1XFgjIflHgku"
      },
      "outputs": [],
      "source": [
        "df_housing = pd.DataFrame(sklearn_housing.data)\n",
        "print(df_housing.head())"
      ]
    },
    {
      "cell_type": "markdown",
      "source": [
        "5.) Add the column names from sklearn dataset to pandas dataframe:"
      ],
      "metadata": {
        "id": "Y53Vh3bRQZ6w"
      }
    },
    {
      "cell_type": "code",
      "execution_count": null,
      "metadata": {
        "id": "1BW8SffxHgku"
      },
      "outputs": [],
      "source": [
        "df_housing.columns = sklearn_housing.feature_names\n",
        "print(df_housing.head())"
      ]
    },
    {
      "cell_type": "markdown",
      "metadata": {
        "id": "C-E1JovDHgkv"
      },
      "source": [
        "6.) Choose corresponding features of average number of rooms and average number of bedrooms in flats of individual California blocks:"
      ]
    },
    {
      "cell_type": "code",
      "execution_count": null,
      "metadata": {
        "collapsed": true,
        "id": "8PXhLoMZHgkv"
      },
      "outputs": [],
      "source": [
        "X = df_housing[\"AveRooms\"]\n",
        "Y = df_housing['AveBedrms']"
      ]
    },
    {
      "cell_type": "markdown",
      "metadata": {
        "id": "8uFd0F7HHgkw"
      },
      "source": [
        "7.) Split the data to train and test sets and visualize training data:"
      ]
    },
    {
      "cell_type": "code",
      "execution_count": null,
      "metadata": {
        "id": "a_ZqwGTDHgkw"
      },
      "outputs": [],
      "source": [
        "X_train, X_test, Y_train, Y_test = train_test_split(X, Y, test_size = 0.33, random_state = 5)\n",
        "print(X_train.shape)\n",
        "print(X_test.shape)\n",
        "print(Y_train.shape)\n",
        "print(Y_test.shape)\n",
        "\n",
        "plt.scatter(X_train.values.reshape(-1, 1), Y_train, s=[4]*len(Y_train))\n",
        "plt.xlabel(\"X - Average number of rooms\")\n",
        "plt.ylabel(\"Y - Average number of bedrooms\")\n",
        "plt.title(\"\")"
      ]
    },
    {
      "cell_type": "markdown",
      "metadata": {
        "id": "0J7hh_YoHgkw"
      },
      "source": [
        "8.) TODO: Implement python function my_ols_2d receiving training sets X_train and Y_train as numpy arrays and using basic numpy functions such as numpy.sum, numpy.mean, numpy.multiply, numpy.cov or numpy.var compute values of estimated b_0 and b_1 and return both of these values."
      ]
    },
    {
      "cell_type": "code",
      "source": [
        "def my_ols_2d(X_tr, Y_tr):\n",
        "    # TODO\n",
        "    b_0 = None\n",
        "    b_1 = None\n",
        "\n",
        "    return b_0, b_1"
      ],
      "metadata": {
        "id": "jpkEb4Wrk3nK"
      },
      "execution_count": null,
      "outputs": []
    },
    {
      "cell_type": "markdown",
      "source": [
        "9.) Test your implementation on training data:"
      ],
      "metadata": {
        "id": "GSJAmu9HmncI"
      }
    },
    {
      "cell_type": "code",
      "source": [
        "my_b0, my_b1 = my_ols_2d(np.array(X_train), np.array(Y_train))\n",
        "print(my_b0)\n",
        "print(my_b1)"
      ],
      "metadata": {
        "id": "5dL8sF9lm6J6"
      },
      "execution_count": null,
      "outputs": []
    },
    {
      "cell_type": "markdown",
      "source": [
        "10.) Now try different approach and use the numpy least squares function implemented in linalg package (find its documentation):"
      ],
      "metadata": {
        "id": "_KSJ3rtyujcn"
      }
    },
    {
      "cell_type": "code",
      "source": [
        "def numpy_ols_2d(X_tr, Y_tr):\n",
        "    # TODO\n",
        "    b_0 = None\n",
        "    b_1 = None\n",
        "\n",
        "    return b_0, b_1"
      ],
      "metadata": {
        "id": "gHL1lk8_vHY6"
      },
      "execution_count": null,
      "outputs": []
    },
    {
      "cell_type": "markdown",
      "source": [
        "11.) Check if your implementation gives the same values as numpy implementation:"
      ],
      "metadata": {
        "id": "6m94ffN7y5na"
      }
    },
    {
      "cell_type": "code",
      "execution_count": null,
      "metadata": {
        "id": "vNZH8ujQHgkw"
      },
      "outputs": [],
      "source": [
        "np_b0, np_b1 = numpy_ols_2d(np.array(X_train), np.array(Y_train))\n",
        "\n",
        "assert(round(my_b0, 2) == round(np_b0, 2))\n",
        "assert(round(my_b1, 2) == round(np_b1, 2))"
      ]
    },
    {
      "cell_type": "markdown",
      "source": [
        "12.) Use your values of b_0 and b_1 to predict Y_pred from X_tst:"
      ],
      "metadata": {
        "id": "aLxtvHCs1Qew"
      }
    },
    {
      "cell_type": "code",
      "source": [
        "# TODO\n",
        "Y_pred = None"
      ],
      "metadata": {
        "id": "G2DTkhWr1kck"
      },
      "execution_count": 1,
      "outputs": []
    },
    {
      "cell_type": "markdown",
      "metadata": {
        "id": "EV4CAd4YHgkx"
      },
      "source": [
        "13.) Write function to compute mean square error:"
      ]
    },
    {
      "cell_type": "code",
      "execution_count": null,
      "metadata": {
        "collapsed": true,
        "id": "d-69L1X9Hgkx"
      },
      "outputs": [],
      "source": [
        "def my_mse(Y_tst, Y_pre):\n",
        "  # TODO\n",
        "  mse = None\n",
        "  return mse"
      ]
    },
    {
      "cell_type": "markdown",
      "source": [
        "14.) Compute mse of predicted Y_pred:"
      ],
      "metadata": {
        "id": "6Xxw7WcU2Jjc"
      }
    },
    {
      "cell_type": "code",
      "source": [
        "mse = my_mse(Y_test, Y_pred)\n",
        "print(mse)"
      ],
      "metadata": {
        "id": "B9FAj4Xw2Hfu"
      },
      "execution_count": null,
      "outputs": []
    },
    {
      "cell_type": "markdown",
      "source": [
        "15.) Visualize predicted results:"
      ],
      "metadata": {
        "id": "y36WsIKR2nES"
      }
    },
    {
      "cell_type": "code",
      "execution_count": null,
      "metadata": {
        "id": "FdCNwXMqHgkx"
      },
      "outputs": [],
      "source": [
        "plt.plot(X_test, Y_pred, 'o', markersize=4)\n",
        "plt.plot(X_test, Y_pred, 'r', label='Fitted line')\n",
        "plt.ylabel(\"Estimated Y\")\n",
        "plt.xlabel(\"Given testing X\")\n",
        "plt.legend()\n",
        "plt.show()"
      ]
    }
  ],
  "metadata": {
    "kernelspec": {
      "display_name": "Python 3",
      "language": "python",
      "name": "python3"
    },
    "language_info": {
      "codemirror_mode": {
        "name": "ipython",
        "version": 3
      },
      "file_extension": ".py",
      "mimetype": "text/x-python",
      "name": "python",
      "nbconvert_exporter": "python",
      "pygments_lexer": "ipython3",
      "version": "3.6.1"
    },
    "colab": {
      "provenance": []
    }
  },
  "nbformat": 4,
  "nbformat_minor": 0
}